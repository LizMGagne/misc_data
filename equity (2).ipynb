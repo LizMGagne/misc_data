{
 "cells": [
  {
   "cell_type": "markdown",
   "metadata": {},
   "source": [
    "#### Import packages"
   ]
  },
  {
   "cell_type": "code",
   "execution_count": 2,
   "metadata": {
    "ExecuteTime": {
     "end_time": "2019-01-24T22:12:58.550070Z",
     "start_time": "2019-01-24T22:12:55.526382Z"
    }
   },
   "outputs": [],
   "source": [
    "import pandas as pd #for data management and wrangling\n",
    "import numpy as np #for calculations and data wrangling\n",
    "from numpy import random\n",
    "import matplotlib.pyplot as plt #for graphs\n",
    "import seaborn as sns #for graphs\n",
    "import sklearn #for the TF-IDF vectorizer, cosine similarity, etc.\n",
    "import nltk #for nlp pre-processing\n",
    "from nltk import word_tokenize\n",
    "# nltk.download()\n",
    "import spacy #for nlp pre-processing\n",
    "import en_core_web_sm  # or any other model you downloaded via spacy download or pip\n",
    "nlp = en_core_web_sm.load()\n",
    "from spacy.lang.en import STOP_WORDS\n",
    "import string\n",
    "from sklearn.cluster import KMeans\n",
    "from sklearn.decomposition import PCA\n",
    "\n",
    "\n",
    "# Enable inline plotting\n",
    "%matplotlib inline"
   ]
  },
  {
   "cell_type": "markdown",
   "metadata": {},
   "source": [
    "#### Read in xlsx file"
   ]
  },
  {
   "cell_type": "code",
   "execution_count": 200,
   "metadata": {
    "ExecuteTime": {
     "end_time": "2019-01-24T22:12:58.878738Z",
     "start_time": "2019-01-24T22:12:58.551786Z"
    }
   },
   "outputs": [],
   "source": [
    "#df = pd.read_csv('ALLDATA_MERGE.csv')\n",
    "df = pd.read_excel('ALLDATA_MERGE.xlsx')\n",
    "#df.head()"
   ]
  },
  {
   "cell_type": "markdown",
   "metadata": {},
   "source": [
    "##### Get list of unique values in the LinkName column"
   ]
  },
  {
   "cell_type": "code",
   "execution_count": 5,
   "metadata": {
    "ExecuteTime": {
     "end_time": "2019-01-24T22:12:58.891406Z",
     "start_time": "2019-01-24T22:12:58.886986Z"
    }
   },
   "outputs": [
    {
     "data": {
      "text/plain": [
       "array(['Advancing Equity - November 20, 2018 - DHC Employees',\n",
       "       'Advancing Equity - December 18, 2018 - DHC Employees',\n",
       "       'Advancing Equity - November 9 2018 - DHC Employees',\n",
       "       'Aspiring Manager Program, Session 4: Advancing Equity, Diversity & Inclusion - November 9 2018',\n",
       "       'MDP Track 1 , Session 3: Advancing Equity, Diversity & Inclusion - November 9, 2018',\n",
       "       'Journey Program: Advancing Equity, Diversity & Inclusion - November 9, 2018',\n",
       "       'LeadDOE Session1: Advancing Equity, Diversity & Inclusion - November 15, 2018',\n",
       "       'Advancing Equity – November 15, 2018 – DHC Employees',\n",
       "       'Journey Program: Advancing Equity, Diversity & Inclusion - November 15,2018',\n",
       "       'Advancing Equity – November 30, 2018 – DHC Employees',\n",
       "       'Advancing Equity – December 5, 2018 – DHC Employees',\n",
       "       'Advancing Equity – December 12, 2018 – DHC Employees',\n",
       "       'MDP Track 2, Session 3: Advancing Equity, Diversity & Inclusion - December 12, 2018'],\n",
       "      dtype=object)"
      ]
     },
     "execution_count": 5,
     "metadata": {},
     "output_type": "execute_result"
    }
   ],
   "source": [
    "df.LinkName.unique()"
   ]
  },
  {
   "cell_type": "markdown",
   "metadata": {},
   "source": [
    "##### create new column (emp_group) with distinct employee groups based on LinkName values - for easier grouping"
   ]
  },
  {
   "cell_type": "code",
   "execution_count": 201,
   "metadata": {
    "ExecuteTime": {
     "end_time": "2019-01-24T22:12:58.924367Z",
     "start_time": "2019-01-24T22:12:58.893505Z"
    }
   },
   "outputs": [],
   "source": [
    "conditions = [\n",
    "    (df['LinkName'] == 'Advancing Equity - November 20, 2018 - DHC Employees') | (df['LinkName'] == 'Advancing Equity - December 18, 2018 - DHC Employees') | (df['LinkName'] == 'Advancing Equity - November 9 2018 - DHC Employees') | (df['LinkName'] == 'Advancing Equity – November 30, 2018 – DHC Employees') | (df['LinkName'] == 'Advancing Equity – December 5, 2018 – DHC Employees') | (df['LinkName'] == 'Advancing Equity – December 12, 2018 – DHC Employees') | (df['LinkName'] == 'Advancing Equity – November 15, 2018 – DHC Employees'),\n",
    "    (df['LinkName'] == 'Aspiring Manager Program, Session 4: Advancing Equity, Diversity & Inclusion - November 9 2018'),\n",
    "    (df['LinkName'] == 'MDP Track 1 , Session 3: Advancing Equity, Diversity & Inclusion - November 9, 2018'),\n",
    "    (df['LinkName'] == 'Journey Program: Advancing Equity, Diversity & Inclusion - November 9, 2018') | (df['LinkName'] == 'Journey Program: Advancing Equity, Diversity & Inclusion - November 15,2018'),\n",
    "    (df['LinkName'] == 'LeadDOE Session1: Advancing Equity, Diversity & Inclusion - November 15, 2018'),\n",
    "    (df['LinkName'] == 'MDP Track 2, Session 3: Advancing Equity, Diversity & Inclusion - December 12, 2018')]\n",
    "choices = ['DHC Employees', 'Aspiring Manager Program', 'MDP Track 1', 'Journey Program', 'LeadDOE', 'MDP Track 2']\n",
    "df['emp_group'] = np.select(conditions, choices)\n",
    "#df.head()"
   ]
  },
  {
   "cell_type": "code",
   "execution_count": 124,
   "metadata": {},
   "outputs": [
    {
     "data": {
      "text/plain": [
       "array(['DHC Employees', 'Aspiring Manager Program', 'MDP Track 1',\n",
       "       'Journey Program', 'LeadDOE', 'MDP Track 2'], dtype=object)"
      ]
     },
     "execution_count": 124,
     "metadata": {},
     "output_type": "execute_result"
    }
   ],
   "source": [
    "df.emp_group.unique()"
   ]
  },
  {
   "cell_type": "markdown",
   "metadata": {},
   "source": [
    "##### Get word counts for text cols"
   ]
  },
  {
   "cell_type": "code",
   "execution_count": 202,
   "metadata": {
    "ExecuteTime": {
     "end_time": "2019-01-24T22:12:58.953945Z",
     "start_time": "2019-01-24T22:12:58.926334Z"
    }
   },
   "outputs": [],
   "source": [
    "df['totalwords_takeaway'] = df['Whatwasthemostusefulpieceofinformationorskillthatyoutookawayfrom'].str.split().str.len()\n",
    "df['totalwords_improvement'] = df['Whatwouldhavemadethesessionmorevaluable\\xa0'].str.split().str.len()\n",
    "#df.head()"
   ]
  },
  {
   "cell_type": "markdown",
   "metadata": {
    "ExecuteTime": {
     "end_time": "2019-01-24T22:03:39.951816Z",
     "start_time": "2019-01-24T22:03:39.949145Z"
    }
   },
   "source": [
    "#### Analyse helpers"
   ]
  },
  {
   "cell_type": "code",
   "execution_count": 163,
   "metadata": {
    "ExecuteTime": {
     "end_time": "2019-01-24T22:12:58.960168Z",
     "start_time": "2019-01-24T22:12:58.956076Z"
    }
   },
   "outputs": [],
   "source": [
    "def top_tfidf_feats(row, features, top_n=25):\n",
    "    ''' Get top n tfidf values in row and return them with their corresponding feature names.'''\n",
    "    topn_ids = np.argsort(row)[::-1][:top_n]\n",
    "    top_feats = [(features[i], row[i]) for i in topn_ids]\n",
    "    df = pd.DataFrame(top_feats)\n",
    "    df.columns = ['feature', 'tfidf']\n",
    "    return df"
   ]
  },
  {
   "cell_type": "code",
   "execution_count": 164,
   "metadata": {
    "ExecuteTime": {
     "end_time": "2019-01-24T22:12:58.965808Z",
     "start_time": "2019-01-24T22:12:58.962566Z"
    }
   },
   "outputs": [],
   "source": [
    "def top_feats_in_doc(Xtr, features, row_id, top_n=25):\n",
    "    ''' Top tfidf features in specific document (matrix row) '''\n",
    "    row = np.squeeze(Xtr[row_id].toarray())\n",
    "    return top_tfidf_feats(row, features, top_n)"
   ]
  },
  {
   "cell_type": "code",
   "execution_count": 165,
   "metadata": {
    "ExecuteTime": {
     "end_time": "2019-01-24T22:12:58.972148Z",
     "start_time": "2019-01-24T22:12:58.968071Z"
    }
   },
   "outputs": [],
   "source": [
    "def top_mean_feats(Xtr, features, grp_ids=None, min_tfidf=0.1, top_n=25):\n",
    "    ''' Return the top n features that on average are most important amongst documents in rows\n",
    "        indentified by indices in grp_ids. '''\n",
    "    if grp_ids:\n",
    "        D = Xtr[grp_ids].toarray()\n",
    "    else:\n",
    "        D = Xtr.toarray()\n",
    "\n",
    "    D[D < min_tfidf] = 0\n",
    "    tfidf_means = np.mean(D, axis=0)\n",
    "    return top_tfidf_feats(tfidf_means, features, top_n)"
   ]
  },
  {
   "cell_type": "code",
   "execution_count": 166,
   "metadata": {
    "ExecuteTime": {
     "end_time": "2019-01-24T22:12:58.977898Z",
     "start_time": "2019-01-24T22:12:58.974243Z"
    }
   },
   "outputs": [],
   "source": [
    "def top_feats_by_class(Xtr, y, features, min_tfidf=0.1, top_n=25):\n",
    "    ''' Return a list of dfs, where each df holds top_n features and their mean tfidf value\n",
    "        calculated across documents with the same class label. '''\n",
    "    dfs = []\n",
    "    labels = np.unique(y)\n",
    "    for label in labels:\n",
    "        ids = np.where(y==label)\n",
    "        feats_df = top_mean_feats(Xtr, features, ids, min_tfidf=min_tfidf, top_n=top_n)\n",
    "        feats_df.label = label\n",
    "        dfs.append(feats_df)\n",
    "    return dfs"
   ]
  },
  {
   "cell_type": "code",
   "execution_count": 167,
   "metadata": {
    "ExecuteTime": {
     "end_time": "2019-01-24T22:12:58.982648Z",
     "start_time": "2019-01-24T22:12:58.980093Z"
    }
   },
   "outputs": [],
   "source": [
    "def wrap_title(title):\n",
    "    tokens = title.split()\n",
    "    if len(tokens) > 2:\n",
    "        tokens.insert(2, \"\\n\")\n",
    "    return \" \".join(tokens)"
   ]
  },
  {
   "cell_type": "code",
   "execution_count": 168,
   "metadata": {
    "ExecuteTime": {
     "end_time": "2019-01-24T22:12:58.989569Z",
     "start_time": "2019-01-24T22:12:58.984594Z"
    }
   },
   "outputs": [],
   "source": [
    "def plot_tfidf_classfeats_h(dfs):\n",
    "    ''' Plot the data frames returned by the function plot_tfidf_classfeats(). '''\n",
    "    fig = plt.figure(figsize=(17, 10), facecolor=\"w\")\n",
    "    x = np.arange(len(dfs[0]))\n",
    "    for i, df in enumerate(dfs):\n",
    "        ax = fig.add_subplot(2, len(dfs), i+1)\n",
    "        ax.spines[\"top\"].set_visible(False)\n",
    "        ax.spines[\"right\"].set_visible(False)\n",
    "        ax.set_frame_on(False)\n",
    "        ax.get_xaxis().tick_bottom()\n",
    "        ax.get_yaxis().tick_left()\n",
    "        if i == int(len(dfs) /2):\n",
    "            ax.set_xlabel(\"Mean TF-IDF Score\", labelpad=16, fontsize=14)\n",
    "        ax.set_title(wrap_title(str(df.label)))\n",
    "        ax.ticklabel_format(axis='x', style='sci', scilimits=(-2,2))\n",
    "        ax.barh(x, df.tfidf, align='center', color='#3F5D7D')\n",
    "        ax.set_yticks(x)\n",
    "        ax.set_ylim([-1, x[-1]+1])\n",
    "        yticks = ax.set_yticklabels(df.feature)\n",
    "        plt.subplots_adjust(bottom=0.09, right=0.97, left=0.15, top=0.95, wspace=0.52)\n",
    "    plt.show()"
   ]
  },
  {
   "cell_type": "markdown",
   "metadata": {
    "ExecuteTime": {
     "end_time": "2019-01-24T22:03:39.951816Z",
     "start_time": "2019-01-24T22:03:39.949145Z"
    }
   },
   "source": [
    "#### Analyse takeaway"
   ]
  },
  {
   "cell_type": "markdown",
   "metadata": {},
   "source": [
    "##### Get tokens, lemmas, and pos tags for the key takeaways text"
   ]
  },
  {
   "cell_type": "code",
   "execution_count": 203,
   "metadata": {
    "ExecuteTime": {
     "end_time": "2019-01-24T22:13:00.639319Z",
     "start_time": "2019-01-24T22:12:58.991434Z"
    },
    "scrolled": true
   },
   "outputs": [],
   "source": [
    "tokens = []\n",
    "lemma = []\n",
    "pos = []\n",
    "\n",
    "for doc in nlp.pipe(df['Whatwasthemostusefulpieceofinformationorskillthatyoutookawayfrom'].astype('unicode').values, batch_size=30,\n",
    "                        n_threads=3):\n",
    "    if doc.is_parsed:\n",
    "        tokens.append([n.text for n in doc if not n.is_punct and not n.is_stop and not n.is_space])\n",
    "        lemma.append([n.lemma_ for n in doc if not n.is_punct and not n.is_stop and not n.is_space])\n",
    "        pos.append([n.pos_ for n in doc if not n.is_punct and not n.is_stop and not n.is_space])\n",
    "    else:\n",
    "        tokens.append(None)\n",
    "        lemma.append(None)\n",
    "        pos.append(None)\n",
    "\n",
    "df['tokens_takeaway'] = tokens\n",
    "df['lemmas_takeaway'] = lemma\n",
    "df['pos_takeaway'] = pos\n",
    "\n",
    "#df.head()"
   ]
  },
  {
   "cell_type": "code",
   "execution_count": 170,
   "metadata": {
    "ExecuteTime": {
     "end_time": "2019-01-24T22:13:00.646247Z",
     "start_time": "2019-01-24T22:13:00.641680Z"
    }
   },
   "outputs": [],
   "source": [
    "df['lemmas_takeaway'] = df['lemmas_takeaway'].apply(lambda x: [t for t in x if t != \"-PRON-\"])\n"
   ]
  },
  {
   "cell_type": "code",
   "execution_count": 171,
   "metadata": {},
   "outputs": [],
   "source": [
    "df['lemmas_takeaway'] = df['lemmas_takeaway'].apply(lambda x: [t for t in x if t != \"the\"])"
   ]
  },
  {
   "cell_type": "code",
   "execution_count": 172,
   "metadata": {},
   "outputs": [],
   "source": [
    "df['lemmas_takeaway'] = df['lemmas_takeaway'].apply(lambda x: [t for t in x if t != \"like\"])"
   ]
  },
  {
   "cell_type": "code",
   "execution_count": 173,
   "metadata": {},
   "outputs": [],
   "source": [
    "df['lemmas_takeaway'] = df['lemmas_takeaway'].apply(lambda x: [t for t in x if t != \"not\"])"
   ]
  },
  {
   "cell_type": "markdown",
   "metadata": {},
   "source": [
    "##### Create new df with just groups, word counts, and lemmas"
   ]
  },
  {
   "cell_type": "code",
   "execution_count": 174,
   "metadata": {
    "ExecuteTime": {
     "end_time": "2019-01-24T22:13:00.663465Z",
     "start_time": "2019-01-24T22:13:00.648848Z"
    }
   },
   "outputs": [
    {
     "data": {
      "text/html": [
       "<div>\n",
       "<style scoped>\n",
       "    .dataframe tbody tr th:only-of-type {\n",
       "        vertical-align: middle;\n",
       "    }\n",
       "\n",
       "    .dataframe tbody tr th {\n",
       "        vertical-align: top;\n",
       "    }\n",
       "\n",
       "    .dataframe thead th {\n",
       "        text-align: right;\n",
       "    }\n",
       "</style>\n",
       "<table border=\"1\" class=\"dataframe\">\n",
       "  <thead>\n",
       "    <tr style=\"text-align: right;\">\n",
       "      <th></th>\n",
       "      <th>emp_group</th>\n",
       "      <th>totalwords_takeaway</th>\n",
       "      <th>lemmas_takeaway</th>\n",
       "    </tr>\n",
       "  </thead>\n",
       "  <tbody>\n",
       "    <tr>\n",
       "      <th>0</th>\n",
       "      <td>DHC Employees</td>\n",
       "      <td>NaN</td>\n",
       "      <td>[nan]</td>\n",
       "    </tr>\n",
       "    <tr>\n",
       "      <th>1</th>\n",
       "      <td>DHC Employees</td>\n",
       "      <td>22.0</td>\n",
       "      <td>[understand, multiple, layer, bias, exist, giv...</td>\n",
       "    </tr>\n",
       "    <tr>\n",
       "      <th>2</th>\n",
       "      <td>DHC Employees</td>\n",
       "      <td>55.0</td>\n",
       "      <td>[as, black, woman, live, consequence, implicit...</td>\n",
       "    </tr>\n",
       "    <tr>\n",
       "      <th>3</th>\n",
       "      <td>DHC Employees</td>\n",
       "      <td>37.0</td>\n",
       "      <td>[think, d.i.v.e., usually, jump, evaluate, try...</td>\n",
       "    </tr>\n",
       "    <tr>\n",
       "      <th>4</th>\n",
       "      <td>DHC Employees</td>\n",
       "      <td>23.0</td>\n",
       "      <td>[1, understand, nuance, interconnection, bias,...</td>\n",
       "    </tr>\n",
       "  </tbody>\n",
       "</table>\n",
       "</div>"
      ],
      "text/plain": [
       "       emp_group  totalwords_takeaway  \\\n",
       "0  DHC Employees                  NaN   \n",
       "1  DHC Employees                 22.0   \n",
       "2  DHC Employees                 55.0   \n",
       "3  DHC Employees                 37.0   \n",
       "4  DHC Employees                 23.0   \n",
       "\n",
       "                                     lemmas_takeaway  \n",
       "0                                              [nan]  \n",
       "1  [understand, multiple, layer, bias, exist, giv...  \n",
       "2  [as, black, woman, live, consequence, implicit...  \n",
       "3  [think, d.i.v.e., usually, jump, evaluate, try...  \n",
       "4  [1, understand, nuance, interconnection, bias,...  "
      ]
     },
     "execution_count": 174,
     "metadata": {},
     "output_type": "execute_result"
    }
   ],
   "source": [
    "takeaway = df[['emp_group',\n",
    "'totalwords_takeaway',\n",
    " 'lemmas_takeaway']]\n",
    "takeaway.head()"
   ]
  },
  {
   "cell_type": "markdown",
   "metadata": {},
   "source": [
    "##### drop na values"
   ]
  },
  {
   "cell_type": "code",
   "execution_count": 175,
   "metadata": {
    "ExecuteTime": {
     "end_time": "2019-01-24T22:13:00.678964Z",
     "start_time": "2019-01-24T22:13:00.665986Z"
    }
   },
   "outputs": [
    {
     "data": {
      "text/html": [
       "<div>\n",
       "<style scoped>\n",
       "    .dataframe tbody tr th:only-of-type {\n",
       "        vertical-align: middle;\n",
       "    }\n",
       "\n",
       "    .dataframe tbody tr th {\n",
       "        vertical-align: top;\n",
       "    }\n",
       "\n",
       "    .dataframe thead th {\n",
       "        text-align: right;\n",
       "    }\n",
       "</style>\n",
       "<table border=\"1\" class=\"dataframe\">\n",
       "  <thead>\n",
       "    <tr style=\"text-align: right;\">\n",
       "      <th></th>\n",
       "      <th>emp_group</th>\n",
       "      <th>totalwords_takeaway</th>\n",
       "      <th>lemmas_takeaway</th>\n",
       "    </tr>\n",
       "  </thead>\n",
       "  <tbody>\n",
       "    <tr>\n",
       "      <th>1</th>\n",
       "      <td>DHC Employees</td>\n",
       "      <td>22.0</td>\n",
       "      <td>[understand, multiple, layer, bias, exist, giv...</td>\n",
       "    </tr>\n",
       "    <tr>\n",
       "      <th>2</th>\n",
       "      <td>DHC Employees</td>\n",
       "      <td>55.0</td>\n",
       "      <td>[as, black, woman, live, consequence, implicit...</td>\n",
       "    </tr>\n",
       "    <tr>\n",
       "      <th>3</th>\n",
       "      <td>DHC Employees</td>\n",
       "      <td>37.0</td>\n",
       "      <td>[think, d.i.v.e., usually, jump, evaluate, try...</td>\n",
       "    </tr>\n",
       "    <tr>\n",
       "      <th>4</th>\n",
       "      <td>DHC Employees</td>\n",
       "      <td>23.0</td>\n",
       "      <td>[1, understand, nuance, interconnection, bias,...</td>\n",
       "    </tr>\n",
       "    <tr>\n",
       "      <th>7</th>\n",
       "      <td>DHC Employees</td>\n",
       "      <td>58.0</td>\n",
       "      <td>[nyu, facilitator, amazing, moment, learn, hap...</td>\n",
       "    </tr>\n",
       "  </tbody>\n",
       "</table>\n",
       "</div>"
      ],
      "text/plain": [
       "       emp_group  totalwords_takeaway  \\\n",
       "1  DHC Employees                 22.0   \n",
       "2  DHC Employees                 55.0   \n",
       "3  DHC Employees                 37.0   \n",
       "4  DHC Employees                 23.0   \n",
       "7  DHC Employees                 58.0   \n",
       "\n",
       "                                     lemmas_takeaway  \n",
       "1  [understand, multiple, layer, bias, exist, giv...  \n",
       "2  [as, black, woman, live, consequence, implicit...  \n",
       "3  [think, d.i.v.e., usually, jump, evaluate, try...  \n",
       "4  [1, understand, nuance, interconnection, bias,...  \n",
       "7  [nyu, facilitator, amazing, moment, learn, hap...  "
      ]
     },
     "execution_count": 175,
     "metadata": {},
     "output_type": "execute_result"
    }
   ],
   "source": [
    "takeaway = takeaway.dropna(how='any')\n",
    "takeaway.head()"
   ]
  },
  {
   "cell_type": "code",
   "execution_count": 176,
   "metadata": {},
   "outputs": [
    {
     "data": {
      "text/plain": [
       "array(['DHC Employees', 'Aspiring Manager Program', 'MDP Track 1',\n",
       "       'Journey Program', 'LeadDOE', 'MDP Track 2'], dtype=object)"
      ]
     },
     "execution_count": 176,
     "metadata": {},
     "output_type": "execute_result"
    }
   ],
   "source": [
    "takeaway.emp_group.unique()"
   ]
  },
  {
   "cell_type": "markdown",
   "metadata": {},
   "source": [
    "##### Make a tfidf function"
   ]
  },
  {
   "cell_type": "code",
   "execution_count": 177,
   "metadata": {
    "ExecuteTime": {
     "end_time": "2019-01-24T22:13:00.683859Z",
     "start_time": "2019-01-24T22:13:00.681398Z"
    }
   },
   "outputs": [],
   "source": [
    "vect = sklearn.feature_extraction.text.TfidfVectorizer(max_features=11)"
   ]
  },
  {
   "cell_type": "markdown",
   "metadata": {},
   "source": [
    "##### Apply tfidf function"
   ]
  },
  {
   "cell_type": "code",
   "execution_count": 178,
   "metadata": {
    "ExecuteTime": {
     "end_time": "2019-01-24T22:13:00.698505Z",
     "start_time": "2019-01-24T22:13:00.686454Z"
    }
   },
   "outputs": [],
   "source": [
    "lemmas = takeaway['lemmas_takeaway'].apply(lambda x: ' '.join(x))\n",
    "features = vect.fit_transform(lemmas)\n",
    "\n",
    "feature_names = vect.get_feature_names()\n",
    "dense = features.todense()\n",
    "denselist = dense.tolist()"
   ]
  },
  {
   "cell_type": "code",
   "execution_count": 179,
   "metadata": {
    "ExecuteTime": {
     "end_time": "2019-01-24T22:13:00.761062Z",
     "start_time": "2019-01-24T22:13:00.700424Z"
    }
   },
   "outputs": [],
   "source": [
    "takeaway['all'] = 'all'"
   ]
  },
  {
   "cell_type": "markdown",
   "metadata": {},
   "source": [
    "##### Visualize"
   ]
  },
  {
   "cell_type": "code",
   "execution_count": 180,
   "metadata": {
    "ExecuteTime": {
     "end_time": "2019-01-24T22:13:00.776820Z",
     "start_time": "2019-01-24T22:13:00.763462Z"
    }
   },
   "outputs": [],
   "source": [
    "dfs = top_feats_by_class(features, takeaway['emp_group'], feature_names)"
   ]
  },
  {
   "cell_type": "code",
   "execution_count": 181,
   "metadata": {
    "ExecuteTime": {
     "end_time": "2019-01-24T22:13:00.783073Z",
     "start_time": "2019-01-24T22:13:00.778583Z"
    }
   },
   "outputs": [],
   "source": [
    "df_all = top_feats_by_class(features, takeaway['all'], feature_names)"
   ]
  },
  {
   "cell_type": "code",
   "execution_count": 182,
   "metadata": {
    "ExecuteTime": {
     "end_time": "2019-01-24T22:13:01.554307Z",
     "start_time": "2019-01-24T22:13:00.785060Z"
    }
   },
   "outputs": [
    {
     "data": {
      "image/png": "[encoded data removed]",
      "text/plain": [
       "<Figure size 1224x720 with 6 Axes>"
      ]
     },
     "metadata": {},
     "output_type": "display_data"
    }
   ],
   "source": [
    "plot_tfidf_classfeats_h(dfs)"
   ]
  },
  {
   "cell_type": "code",
   "execution_count": 183,
   "metadata": {
    "ExecuteTime": {
     "end_time": "2019-01-24T22:13:01.816735Z",
     "start_time": "2019-01-24T22:13:01.556147Z"
    }
   },
   "outputs": [
    {
     "data": {
      "image/png": "[encoded data removed]",
      "text/plain": [
       "<Figure size 1224x720 with 1 Axes>"
      ]
     },
     "metadata": {},
     "output_type": "display_data"
    }
   ],
   "source": [
    "plot_tfidf_classfeats_h(df_all)"
   ]
  },
  {
   "cell_type": "markdown",
   "metadata": {
    "ExecuteTime": {
     "end_time": "2019-01-24T21:19:07.335076Z",
     "start_time": "2019-01-24T21:19:07.332627Z"
    }
   },
   "source": [
    "##### kmeans"
   ]
  },
  {
   "cell_type": "code",
   "execution_count": 184,
   "metadata": {
    "ExecuteTime": {
     "end_time": "2019-01-24T22:13:01.844181Z",
     "start_time": "2019-01-24T22:13:01.818731Z"
    }
   },
   "outputs": [
    {
     "name": "stdout",
     "output_type": "stream",
     "text": [
      "Top terms per cluster:\n",
      "Cluster 0:\n",
      " people\n",
      " facilitator\n",
      " issue\n",
      " session\n",
      " learn\n",
      " bias\n",
      " work\n",
      " white\n",
      " racism\n",
      " training\n",
      "Cluster 1:\n",
      " bias\n",
      " session\n",
      " facilitator\n",
      " learn\n",
      " people\n",
      " understand\n",
      " work\n",
      " white\n",
      " training\n",
      " racism\n",
      "Cluster 2:\n",
      " racism\n",
      " bias\n",
      " issue\n",
      " understand\n",
      " work\n",
      " training\n",
      " white\n",
      " session\n",
      " people\n",
      " learn\n",
      "Cluster 3:\n",
      " training\n",
      " work\n",
      " session\n",
      " bias\n",
      " learn\n",
      " facilitator\n",
      " racism\n",
      " people\n",
      " white\n",
      " issue\n",
      "Cluster 4:\n",
      " understand\n",
      " work\n",
      " bias\n",
      " people\n",
      " racism\n",
      " issue\n",
      " session\n",
      " learn\n",
      " training\n",
      " facilitator\n",
      "Cluster 5:\n",
      " white\n",
      " people\n",
      " racism\n",
      " bias\n",
      " learn\n",
      " training\n",
      " session\n",
      " work\n",
      " facilitator\n",
      " understand\n"
     ]
    }
   ],
   "source": [
    "X = vect.fit_transform(takeaway['lemmas_takeaway'].apply(lambda x: ' '.join(x)))\n",
    "\n",
    "true_k = 6\n",
    "model = KMeans(n_clusters=true_k, init='k-means++', max_iter=100, n_init=1)\n",
    "model.fit(X)\n",
    "\n",
    "print(\"Top terms per cluster:\")\n",
    "order_centroids = model.cluster_centers_.argsort()[:, ::-1]\n",
    "terms = vect.get_feature_names()\n",
    "for i in range(true_k):\n",
    "    print(\"Cluster %d:\" % i),\n",
    "    for ind in order_centroids[i, :10]:\n",
    "        print(' %s' % terms[ind]),\n",
    "    print"
   ]
  },
  {
   "cell_type": "markdown",
   "metadata": {
    "ExecuteTime": {
     "end_time": "2019-01-24T22:03:39.951816Z",
     "start_time": "2019-01-24T22:03:39.949145Z"
    }
   },
   "source": [
    "#### Analyse improvement"
   ]
  },
  {
   "cell_type": "markdown",
   "metadata": {},
   "source": [
    "##### Get tokens, lemmas, and pos tags for the improvement suggestions text"
   ]
  },
  {
   "cell_type": "code",
   "execution_count": 204,
   "metadata": {
    "ExecuteTime": {
     "end_time": "2019-01-24T22:13:04.527515Z",
     "start_time": "2019-01-24T22:13:01.846157Z"
    }
   },
   "outputs": [],
   "source": [
    "tokens = []\n",
    "lemma = []\n",
    "pos = []\n",
    "\n",
    "for doc in nlp.pipe(df['Whatwouldhavemadethesessionmorevaluable\\xa0'].astype('unicode').values, batch_size=30,\n",
    "                        n_threads=3):\n",
    "    if doc.is_parsed:\n",
    "        tokens.append([n.text for n in doc if not n.is_punct and not n.is_stop and not n.is_space])\n",
    "        lemma.append([n.lemma_ for n in doc if not n.is_punct and not n.is_stop and not n.is_space])\n",
    "        pos.append([n.pos_ for n in doc if not n.is_punct and not n.is_stop and not n.is_space])\n",
    "    else:\n",
    "        tokens.append(None)\n",
    "        lemma.append(None)\n",
    "        pos.append(None)\n",
    "\n",
    "df['tokens_improvement'] = tokens\n",
    "df['lemmas_improvement'] = lemma\n",
    "df['pos_improvement'] = pos\n",
    "\n",
    "#df.head()"
   ]
  },
  {
   "cell_type": "code",
   "execution_count": 186,
   "metadata": {
    "ExecuteTime": {
     "end_time": "2019-01-24T22:13:04.534430Z",
     "start_time": "2019-01-24T22:13:04.529765Z"
    }
   },
   "outputs": [],
   "source": [
    "df['lemmas_improvement'] = df['lemmas_improvement'].apply(lambda x: [t for t in x if t != \"-PRON-\"])"
   ]
  },
  {
   "cell_type": "code",
   "execution_count": 187,
   "metadata": {},
   "outputs": [],
   "source": [
    "df['lemmas_improvement'] = df['lemmas_improvement'].apply(lambda x: [t for t in x if t != \"like\"])"
   ]
  },
  {
   "cell_type": "code",
   "execution_count": 188,
   "metadata": {},
   "outputs": [],
   "source": [
    "df['lemmas_improvement'] = df['lemmas_improvement'].apply(lambda x: [t for t in x if t != \"the\"])"
   ]
  },
  {
   "cell_type": "code",
   "execution_count": 189,
   "metadata": {},
   "outputs": [],
   "source": [
    "df['lemmas_improvement'] = df['lemmas_improvement'].apply(lambda x: [t for t in x if t != \"not\"])"
   ]
  },
  {
   "cell_type": "markdown",
   "metadata": {},
   "source": [
    "##### Create new df with just groups, word counts, and lemmas"
   ]
  },
  {
   "cell_type": "code",
   "execution_count": 190,
   "metadata": {
    "ExecuteTime": {
     "end_time": "2019-01-24T22:13:04.550253Z",
     "start_time": "2019-01-24T22:13:04.537036Z"
    }
   },
   "outputs": [
    {
     "data": {
      "text/html": [
       "<div>\n",
       "<style scoped>\n",
       "    .dataframe tbody tr th:only-of-type {\n",
       "        vertical-align: middle;\n",
       "    }\n",
       "\n",
       "    .dataframe tbody tr th {\n",
       "        vertical-align: top;\n",
       "    }\n",
       "\n",
       "    .dataframe thead th {\n",
       "        text-align: right;\n",
       "    }\n",
       "</style>\n",
       "<table border=\"1\" class=\"dataframe\">\n",
       "  <thead>\n",
       "    <tr style=\"text-align: right;\">\n",
       "      <th></th>\n",
       "      <th>emp_group</th>\n",
       "      <th>totalwords_improvement</th>\n",
       "      <th>lemmas_improvement</th>\n",
       "    </tr>\n",
       "  </thead>\n",
       "  <tbody>\n",
       "    <tr>\n",
       "      <th>0</th>\n",
       "      <td>DHC Employees</td>\n",
       "      <td>NaN</td>\n",
       "      <td>[nan]</td>\n",
       "    </tr>\n",
       "    <tr>\n",
       "      <th>1</th>\n",
       "      <td>DHC Employees</td>\n",
       "      <td>NaN</td>\n",
       "      <td>[nan]</td>\n",
       "    </tr>\n",
       "    <tr>\n",
       "      <th>2</th>\n",
       "      <td>DHC Employees</td>\n",
       "      <td>75.0</td>\n",
       "      <td>[session, clear, implicit, bias, what, say, bi...</td>\n",
       "    </tr>\n",
       "    <tr>\n",
       "      <th>3</th>\n",
       "      <td>DHC Employees</td>\n",
       "      <td>4.0</td>\n",
       "      <td>[strategy, approach, boss, superior]</td>\n",
       "    </tr>\n",
       "    <tr>\n",
       "      <th>4</th>\n",
       "      <td>DHC Employees</td>\n",
       "      <td>27.0</td>\n",
       "      <td>[1, spend, time, learn, explore, concept, type...</td>\n",
       "    </tr>\n",
       "  </tbody>\n",
       "</table>\n",
       "</div>"
      ],
      "text/plain": [
       "       emp_group  totalwords_improvement  \\\n",
       "0  DHC Employees                     NaN   \n",
       "1  DHC Employees                     NaN   \n",
       "2  DHC Employees                    75.0   \n",
       "3  DHC Employees                     4.0   \n",
       "4  DHC Employees                    27.0   \n",
       "\n",
       "                                  lemmas_improvement  \n",
       "0                                              [nan]  \n",
       "1                                              [nan]  \n",
       "2  [session, clear, implicit, bias, what, say, bi...  \n",
       "3               [strategy, approach, boss, superior]  \n",
       "4  [1, spend, time, learn, explore, concept, type...  "
      ]
     },
     "execution_count": 190,
     "metadata": {},
     "output_type": "execute_result"
    }
   ],
   "source": [
    "improvement = df[['emp_group',\n",
    "'totalwords_improvement',\n",
    " 'lemmas_improvement']]\n",
    "improvement.head()"
   ]
  },
  {
   "cell_type": "markdown",
   "metadata": {},
   "source": [
    "##### drop na values"
   ]
  },
  {
   "cell_type": "code",
   "execution_count": 191,
   "metadata": {
    "ExecuteTime": {
     "end_time": "2019-01-24T22:13:04.565768Z",
     "start_time": "2019-01-24T22:13:04.552505Z"
    }
   },
   "outputs": [
    {
     "data": {
      "text/html": [
       "<div>\n",
       "<style scoped>\n",
       "    .dataframe tbody tr th:only-of-type {\n",
       "        vertical-align: middle;\n",
       "    }\n",
       "\n",
       "    .dataframe tbody tr th {\n",
       "        vertical-align: top;\n",
       "    }\n",
       "\n",
       "    .dataframe thead th {\n",
       "        text-align: right;\n",
       "    }\n",
       "</style>\n",
       "<table border=\"1\" class=\"dataframe\">\n",
       "  <thead>\n",
       "    <tr style=\"text-align: right;\">\n",
       "      <th></th>\n",
       "      <th>emp_group</th>\n",
       "      <th>totalwords_improvement</th>\n",
       "      <th>lemmas_improvement</th>\n",
       "    </tr>\n",
       "  </thead>\n",
       "  <tbody>\n",
       "    <tr>\n",
       "      <th>2</th>\n",
       "      <td>DHC Employees</td>\n",
       "      <td>75.0</td>\n",
       "      <td>[session, clear, implicit, bias, what, say, bi...</td>\n",
       "    </tr>\n",
       "    <tr>\n",
       "      <th>3</th>\n",
       "      <td>DHC Employees</td>\n",
       "      <td>4.0</td>\n",
       "      <td>[strategy, approach, boss, superior]</td>\n",
       "    </tr>\n",
       "    <tr>\n",
       "      <th>4</th>\n",
       "      <td>DHC Employees</td>\n",
       "      <td>27.0</td>\n",
       "      <td>[1, spend, time, learn, explore, concept, type...</td>\n",
       "    </tr>\n",
       "    <tr>\n",
       "      <th>7</th>\n",
       "      <td>DHC Employees</td>\n",
       "      <td>53.0</td>\n",
       "      <td>[session, predominantly, people, color, desire...</td>\n",
       "    </tr>\n",
       "    <tr>\n",
       "      <th>8</th>\n",
       "      <td>DHC Employees</td>\n",
       "      <td>28.0</td>\n",
       "      <td>[feel, majority, participant, open, discussion...</td>\n",
       "    </tr>\n",
       "  </tbody>\n",
       "</table>\n",
       "</div>"
      ],
      "text/plain": [
       "       emp_group  totalwords_improvement  \\\n",
       "2  DHC Employees                    75.0   \n",
       "3  DHC Employees                     4.0   \n",
       "4  DHC Employees                    27.0   \n",
       "7  DHC Employees                    53.0   \n",
       "8  DHC Employees                    28.0   \n",
       "\n",
       "                                  lemmas_improvement  \n",
       "2  [session, clear, implicit, bias, what, say, bi...  \n",
       "3               [strategy, approach, boss, superior]  \n",
       "4  [1, spend, time, learn, explore, concept, type...  \n",
       "7  [session, predominantly, people, color, desire...  \n",
       "8  [feel, majority, participant, open, discussion...  "
      ]
     },
     "execution_count": 191,
     "metadata": {},
     "output_type": "execute_result"
    }
   ],
   "source": [
    "improvement = improvement.dropna(how='any')\n",
    "improvement.head()"
   ]
  },
  {
   "cell_type": "markdown",
   "metadata": {},
   "source": [
    "##### Make a tfidf function"
   ]
  },
  {
   "cell_type": "code",
   "execution_count": 192,
   "metadata": {
    "ExecuteTime": {
     "end_time": "2019-01-24T22:13:04.570546Z",
     "start_time": "2019-01-24T22:13:04.567769Z"
    }
   },
   "outputs": [],
   "source": [
    "vect = sklearn.feature_extraction.text.TfidfVectorizer(max_features=11)"
   ]
  },
  {
   "cell_type": "markdown",
   "metadata": {},
   "source": [
    "##### Apply tfidf function"
   ]
  },
  {
   "cell_type": "code",
   "execution_count": 193,
   "metadata": {
    "ExecuteTime": {
     "end_time": "2019-01-24T22:13:04.585745Z",
     "start_time": "2019-01-24T22:13:04.572888Z"
    }
   },
   "outputs": [],
   "source": [
    "lemmas = improvement['lemmas_improvement'].apply(lambda x: ' '.join(x))\n",
    "features = vect.fit_transform(lemmas)\n",
    "\n",
    "feature_names = vect.get_feature_names()\n",
    "dense = features.todense()\n",
    "denselist = dense.tolist()"
   ]
  },
  {
   "cell_type": "code",
   "execution_count": 194,
   "metadata": {
    "ExecuteTime": {
     "end_time": "2019-01-24T22:13:04.652161Z",
     "start_time": "2019-01-24T22:13:04.587513Z"
    }
   },
   "outputs": [],
   "source": [
    "improvement['all'] = 'all'"
   ]
  },
  {
   "cell_type": "code",
   "execution_count": 195,
   "metadata": {
    "ExecuteTime": {
     "end_time": "2019-01-24T22:13:04.665955Z",
     "start_time": "2019-01-24T22:13:04.653662Z"
    }
   },
   "outputs": [],
   "source": [
    "dfs = top_feats_by_class(features, improvement['emp_group'], feature_names)"
   ]
  },
  {
   "cell_type": "code",
   "execution_count": 196,
   "metadata": {
    "ExecuteTime": {
     "end_time": "2019-01-24T22:13:04.671959Z",
     "start_time": "2019-01-24T22:13:04.667779Z"
    }
   },
   "outputs": [],
   "source": [
    "df_all = top_feats_by_class(features, improvement['all'], feature_names)"
   ]
  },
  {
   "cell_type": "markdown",
   "metadata": {},
   "source": [
    "##### Visualize TF-IDF"
   ]
  },
  {
   "cell_type": "code",
   "execution_count": 197,
   "metadata": {
    "ExecuteTime": {
     "end_time": "2019-01-24T22:13:07.027833Z",
     "start_time": "2019-01-24T22:13:04.673730Z"
    }
   },
   "outputs": [
    {
     "data": {
      "image/png": "[encoded data removed]",
      "text/plain": [
       "<Figure size 1224x720 with 6 Axes>"
      ]
     },
     "metadata": {},
     "output_type": "display_data"
    }
   ],
   "source": [
    "plot_tfidf_classfeats_h(dfs)"
   ]
  },
  {
   "cell_type": "code",
   "execution_count": 198,
   "metadata": {
    "ExecuteTime": {
     "end_time": "2019-01-24T22:13:07.259838Z",
     "start_time": "2019-01-24T22:13:07.030172Z"
    }
   },
   "outputs": [
    {
     "data": {
      "image/png": "[encoded data removed]",
      "text/plain": [
       "<Figure size 1224x720 with 1 Axes>"
      ]
     },
     "metadata": {},
     "output_type": "display_data"
    }
   ],
   "source": [
    "plot_tfidf_classfeats_h(df_all)"
   ]
  },
  {
   "cell_type": "markdown",
   "metadata": {
    "ExecuteTime": {
     "end_time": "2019-01-24T21:19:07.335076Z",
     "start_time": "2019-01-24T21:19:07.332627Z"
    }
   },
   "source": [
    "##### kmeans"
   ]
  },
  {
   "cell_type": "code",
   "execution_count": 199,
   "metadata": {
    "ExecuteTime": {
     "end_time": "2019-01-24T22:13:07.288574Z",
     "start_time": "2019-01-24T22:13:07.261979Z"
    }
   },
   "outputs": [
    {
     "name": "stdout",
     "output_type": "stream",
     "text": [
      "Top terms per cluster:\n",
      "Cluster 0:\n",
      " people\n",
      " session\n",
      " work\n",
      " think\n",
      " bias\n",
      " doe\n",
      " training\n",
      " time\n",
      " group\n",
      " day\n",
      "Cluster 1:\n",
      " feel\n",
      " time\n",
      " training\n",
      " work\n",
      " session\n",
      " day\n",
      " doe\n",
      " bias\n",
      " group\n",
      " think\n",
      "Cluster 2:\n",
      " group\n",
      " session\n",
      " time\n",
      " work\n",
      " bias\n",
      " think\n",
      " doe\n",
      " training\n",
      " people\n",
      " feel\n",
      "Cluster 3:\n",
      " training\n",
      " bias\n",
      " think\n",
      " work\n",
      " day\n",
      " doe\n",
      " session\n",
      " time\n",
      " people\n",
      " group\n",
      "Cluster 4:\n",
      " time\n",
      " session\n",
      " think\n",
      " work\n",
      " day\n",
      " doe\n",
      " bias\n",
      " feel\n",
      " group\n",
      " people\n",
      "Cluster 5:\n",
      " session\n",
      " bias\n",
      " training\n",
      " think\n",
      " day\n",
      " time\n",
      " doe\n",
      " feel\n",
      " people\n",
      " group\n"
     ]
    }
   ],
   "source": [
    "X = vect.fit_transform(improvement['lemmas_improvement'].apply(lambda x: ' '.join(x)))\n",
    "\n",
    "true_k = 6\n",
    "model = KMeans(n_clusters=true_k, init='k-means++', max_iter=100, n_init=1)\n",
    "model.fit(X)\n",
    "\n",
    "print(\"Top terms per cluster:\")\n",
    "order_centroids = model.cluster_centers_.argsort()[:, ::-1]\n",
    "terms = vect.get_feature_names()\n",
    "for i in range(true_k):\n",
    "    print(\"Cluster %d:\" % i),\n",
    "    for ind in order_centroids[i, :10]:\n",
    "        print(' %s' % terms[ind]),\n",
    "    print"
   ]
  }
 ],
 "metadata": {
  "kernelspec": {
   "display_name": "Python 3",
   "language": "python",
   "name": "python3"
  },
  "language_info": {
   "codemirror_mode": {
    "name": "ipython",
    "version": 3
   },
   "file_extension": ".py",
   "mimetype": "text/x-python",
   "name": "python",
   "nbconvert_exporter": "python",
   "pygments_lexer": "ipython3",
   "version": "3.7.0"
  },
  "toc": {
   "base_numbering": 1,
   "nav_menu": {},
   "number_sections": true,
   "sideBar": true,
   "skip_h1_title": false,
   "title_cell": "Table of Contents",
   "title_sidebar": "Contents",
   "toc_cell": false,
   "toc_position": {},
   "toc_section_display": true,
   "toc_window_display": false
  }
 },
 "nbformat": 4,
 "nbformat_minor": 2
}
